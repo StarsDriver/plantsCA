{
 "cells": [
  {
   "cell_type": "code",
   "execution_count": 90,
   "id": "c1f5616f",
   "metadata": {},
   "outputs": [],
   "source": [
    "import random\n",
    "import itertools \n",
    "from itertools import combinations\n",
    "import copy\n",
    "import numpy as np"
   ]
  },
  {
   "cell_type": "code",
   "execution_count": 91,
   "id": "ed0abcca",
   "metadata": {},
   "outputs": [],
   "source": [
    "#得到不同维度下的所有0/1编码情况\n",
    "def get_all_nums(dim):\n",
    "    nums = [[0]*(dim+2-len(bin(i)))+[int(x) for x in list(bin(i))[2:]] for i in range(2**dim)]\n",
    "    return nums\n",
    "#进行模拟\n",
    "def function(all_num,flag,all_num_co,dim):\n",
    "\n",
    "    le=len(all_num)\n",
    "    itera1=0\n",
    "    for i in all_num_co:#一组生成的编码\n",
    "        itera2=-1\n",
    "        for j in i:#对每个编码进行考察\n",
    "            itera2=itera2+1\n",
    "\n",
    "            if flag[itera1][itera2]==0:#如果死亡则跳过\n",
    "                continue \n",
    "\n",
    "            if sum(j)==dim:\n",
    "                flag[itera1][itera2]=0\n",
    "                all_num_co[itera1][itera2]=[0]*dim\n",
    "                continue\n",
    "\n",
    "            ii=list(copy.deepcopy(i))\n",
    "            ii.remove(j)\n",
    "            eee=np.sum(ii,axis=0)\n",
    "            total=0\n",
    "\n",
    "            for x in range(dim):\n",
    "                if j[x]==0:\n",
    "\n",
    "                     if eee[x]!=0:\n",
    "                            total=total+1\n",
    "            if total==0:\n",
    "                flag[itera1][itera2]=0\n",
    "                all_num_co[itera1][itera2]=[0]*dim\n",
    "\n",
    "        itera1=itera1+1\n",
    "    return all_num,flag,all_num_co"
   ]
  },
  {
   "cell_type": "markdown",
   "id": "2e5818f0",
   "metadata": {},
   "source": [
    "##  一、对特定二进制编码位数和特定物种数目进行模拟"
   ]
  },
  {
   "cell_type": "code",
   "execution_count": 92,
   "id": "2bf552b8",
   "metadata": {},
   "outputs": [
    {
     "name": "stdout",
     "output_type": "stream",
     "text": [
      "请输入二进制编码位数3\n",
      "请输入物种数目4\n"
     ]
    }
   ],
   "source": [
    "\n",
    "dim=int(input(\"请输入二进制编码位数\"))\n",
    "num_of_species = int(input(\"请输入物种数目\"))\n",
    "iteration=20#模拟迭代次数\n",
    "\n",
    "#得到所有0/1编码情况\n",
    "nums =get_all_nums(dim)"
   ]
  },
  {
   "cell_type": "code",
   "execution_count": 93,
   "id": "0a2b8f6e",
   "metadata": {},
   "outputs": [],
   "source": [
    "#随机生成的物种的所有组合情况\n",
    "random_species= [list(w)for w in list(itertools.combinations(nums,num_of_species))]\n",
    "\n",
    "flag=np.ones((len(random_species),num_of_species))\n",
    "all_num_co=list(copy.deepcopy(random_species))"
   ]
  },
  {
   "cell_type": "code",
   "execution_count": 94,
   "id": "6e1bc17a",
   "metadata": {},
   "outputs": [],
   "source": [
    "#进行迭代模拟\n",
    "x,y,z=function(random_species,flag,all_num_co,dim)\n",
    "for i in range(iteration):\n",
    "    x,y,z=function(x,y,z,dim)"
   ]
  },
  {
   "cell_type": "code",
   "execution_count": 95,
   "id": "1b9587d4",
   "metadata": {},
   "outputs": [
    {
     "name": "stdout",
     "output_type": "stream",
     "text": [
      "存活物种数目为 0 ---------------\n",
      "[[0, 0, 0], [0, 0, 1], [0, 1, 1], [1, 1, 1]]\n",
      "[[0, 0, 0], [0, 0, 1], [1, 0, 1], [1, 1, 1]]\n",
      "[[0, 0, 0], [0, 1, 0], [0, 1, 1], [1, 1, 1]]\n",
      "[[0, 0, 0], [0, 1, 0], [1, 1, 0], [1, 1, 1]]\n",
      "[[0, 0, 0], [1, 0, 0], [1, 0, 1], [1, 1, 1]]\n",
      "[[0, 0, 0], [1, 0, 0], [1, 1, 0], [1, 1, 1]]\n",
      "存活物种数目为 1 ---------------\n",
      "存活物种数目为 2 ---------------\n",
      "[[0, 0, 1], [0, 1, 0], [0, 1, 1], [1, 1, 1]]\n",
      "[[0, 0, 1], [1, 0, 0], [1, 0, 1], [1, 1, 1]]\n",
      "[[0, 1, 0], [1, 0, 0], [1, 1, 0], [1, 1, 1]]\n",
      "存活物种数目为 3 ---------------\n",
      "[[0, 0, 0], [0, 0, 1], [0, 1, 0], [0, 1, 1]]\n",
      "[[0, 0, 0], [0, 0, 1], [0, 1, 0], [1, 1, 1]]\n",
      "[[0, 0, 0], [0, 0, 1], [1, 0, 0], [1, 0, 1]]\n",
      "[[0, 0, 0], [0, 0, 1], [1, 0, 0], [1, 1, 1]]\n",
      "[[0, 0, 0], [0, 0, 1], [1, 1, 0], [1, 1, 1]]\n",
      "[[0, 0, 0], [0, 1, 0], [1, 0, 0], [1, 1, 0]]\n",
      "[[0, 0, 0], [0, 1, 0], [1, 0, 0], [1, 1, 1]]\n",
      "[[0, 0, 0], [0, 1, 0], [1, 0, 1], [1, 1, 1]]\n",
      "[[0, 0, 0], [0, 1, 1], [1, 0, 0], [1, 1, 1]]\n",
      "[[0, 0, 0], [0, 1, 1], [1, 0, 1], [1, 1, 1]]\n",
      "[[0, 0, 0], [0, 1, 1], [1, 1, 0], [1, 1, 1]]\n",
      "[[0, 0, 0], [1, 0, 1], [1, 1, 0], [1, 1, 1]]\n",
      "[[0, 0, 1], [0, 1, 0], [1, 0, 0], [1, 1, 1]]\n",
      "[[0, 0, 1], [0, 1, 0], [1, 0, 1], [1, 1, 1]]\n",
      "[[0, 0, 1], [0, 1, 0], [1, 1, 0], [1, 1, 1]]\n",
      "[[0, 0, 1], [0, 1, 1], [1, 0, 0], [1, 1, 1]]\n",
      "[[0, 0, 1], [0, 1, 1], [1, 0, 1], [1, 1, 1]]\n",
      "[[0, 0, 1], [0, 1, 1], [1, 1, 0], [1, 1, 1]]\n",
      "[[0, 0, 1], [1, 0, 0], [1, 1, 0], [1, 1, 1]]\n",
      "[[0, 0, 1], [1, 0, 1], [1, 1, 0], [1, 1, 1]]\n",
      "[[0, 1, 0], [0, 1, 1], [1, 0, 0], [1, 1, 1]]\n",
      "[[0, 1, 0], [0, 1, 1], [1, 0, 1], [1, 1, 1]]\n",
      "[[0, 1, 0], [0, 1, 1], [1, 1, 0], [1, 1, 1]]\n",
      "[[0, 1, 0], [1, 0, 0], [1, 0, 1], [1, 1, 1]]\n",
      "[[0, 1, 0], [1, 0, 1], [1, 1, 0], [1, 1, 1]]\n",
      "[[0, 1, 1], [1, 0, 0], [1, 0, 1], [1, 1, 1]]\n",
      "[[0, 1, 1], [1, 0, 0], [1, 1, 0], [1, 1, 1]]\n",
      "[[0, 1, 1], [1, 0, 1], [1, 1, 0], [1, 1, 1]]\n",
      "[[1, 0, 0], [1, 0, 1], [1, 1, 0], [1, 1, 1]]\n",
      "存活物种数目为 4 ---------------\n",
      "[[0, 0, 0], [0, 0, 1], [0, 1, 0], [1, 0, 0]]\n",
      "[[0, 0, 0], [0, 0, 1], [0, 1, 0], [1, 0, 1]]\n",
      "[[0, 0, 0], [0, 0, 1], [0, 1, 0], [1, 1, 0]]\n",
      "[[0, 0, 0], [0, 0, 1], [0, 1, 1], [1, 0, 0]]\n",
      "[[0, 0, 0], [0, 0, 1], [0, 1, 1], [1, 0, 1]]\n",
      "[[0, 0, 0], [0, 0, 1], [0, 1, 1], [1, 1, 0]]\n",
      "[[0, 0, 0], [0, 0, 1], [1, 0, 0], [1, 1, 0]]\n",
      "[[0, 0, 0], [0, 0, 1], [1, 0, 1], [1, 1, 0]]\n",
      "[[0, 0, 0], [0, 1, 0], [0, 1, 1], [1, 0, 0]]\n",
      "[[0, 0, 0], [0, 1, 0], [0, 1, 1], [1, 0, 1]]\n",
      "[[0, 0, 0], [0, 1, 0], [0, 1, 1], [1, 1, 0]]\n",
      "[[0, 0, 0], [0, 1, 0], [1, 0, 0], [1, 0, 1]]\n",
      "[[0, 0, 0], [0, 1, 0], [1, 0, 1], [1, 1, 0]]\n",
      "[[0, 0, 0], [0, 1, 1], [1, 0, 0], [1, 0, 1]]\n",
      "[[0, 0, 0], [0, 1, 1], [1, 0, 0], [1, 1, 0]]\n",
      "[[0, 0, 0], [0, 1, 1], [1, 0, 1], [1, 1, 0]]\n",
      "[[0, 0, 0], [1, 0, 0], [1, 0, 1], [1, 1, 0]]\n",
      "[[0, 0, 1], [0, 1, 0], [0, 1, 1], [1, 0, 0]]\n",
      "[[0, 0, 1], [0, 1, 0], [0, 1, 1], [1, 0, 1]]\n",
      "[[0, 0, 1], [0, 1, 0], [0, 1, 1], [1, 1, 0]]\n",
      "[[0, 0, 1], [0, 1, 0], [1, 0, 0], [1, 0, 1]]\n",
      "[[0, 0, 1], [0, 1, 0], [1, 0, 0], [1, 1, 0]]\n",
      "[[0, 0, 1], [0, 1, 0], [1, 0, 1], [1, 1, 0]]\n",
      "[[0, 0, 1], [0, 1, 1], [1, 0, 0], [1, 0, 1]]\n",
      "[[0, 0, 1], [0, 1, 1], [1, 0, 0], [1, 1, 0]]\n",
      "[[0, 0, 1], [0, 1, 1], [1, 0, 1], [1, 1, 0]]\n",
      "[[0, 0, 1], [1, 0, 0], [1, 0, 1], [1, 1, 0]]\n",
      "[[0, 1, 0], [0, 1, 1], [1, 0, 0], [1, 0, 1]]\n",
      "[[0, 1, 0], [0, 1, 1], [1, 0, 0], [1, 1, 0]]\n",
      "[[0, 1, 0], [0, 1, 1], [1, 0, 1], [1, 1, 0]]\n",
      "[[0, 1, 0], [1, 0, 0], [1, 0, 1], [1, 1, 0]]\n",
      "[[0, 1, 1], [1, 0, 0], [1, 0, 1], [1, 1, 0]]\n"
     ]
    }
   ],
   "source": [
    "\n",
    "final_answer=[[] for i in range(num_of_species+1)]\n",
    "\n",
    "for i in range(len(flag)):\n",
    "    final_answer[int(sum(flag[i]))].append(random_species[i])\n",
    "\n",
    "#打印各存活物种数目情况下的物种组合情况\n",
    "idx=0\n",
    "for i in final_answer:\n",
    "    print('存活物种数目为',idx,'---------------')\n",
    "    idx=idx+1\n",
    "    for j in i:\n",
    "        print(j)"
   ]
  },
  {
   "cell_type": "markdown",
   "id": "f17e24a7",
   "metadata": {},
   "source": [
    "### x为各存活数目下物种所占的比例，依次为0,1,2.....各物种的情况"
   ]
  },
  {
   "cell_type": "code",
   "execution_count": 96,
   "id": "023a82c8",
   "metadata": {},
   "outputs": [
    {
     "name": "stdout",
     "output_type": "stream",
     "text": [
      "[0.08571429 0.         0.04285714 0.41428571 0.45714286]\n"
     ]
    }
   ],
   "source": [
    "x=[]\n",
    "for i in range(num_of_species+1):\n",
    "    x.append(len(final_answer[i]))\n",
    "x=np.array(x)\n",
    "x=x/len(flag)\n",
    "print(x)"
   ]
  },
  {
   "cell_type": "markdown",
   "id": "1c3e3353",
   "metadata": {},
   "source": [
    "#### y为生物总存活的概率"
   ]
  },
  {
   "cell_type": "code",
   "execution_count": 97,
   "id": "82bca848",
   "metadata": {},
   "outputs": [
    {
     "name": "stdout",
     "output_type": "stream",
     "text": [
      "0.7892857142857143\n"
     ]
    }
   ],
   "source": [
    "y=np.sum(flag)/(len(flag)*num_of_species)\n",
    "print(y)"
   ]
  },
  {
   "cell_type": "markdown",
   "id": "e6b4c4d4",
   "metadata": {},
   "source": [
    "##  二、对特定二进制编码位数下所有情况进行模拟"
   ]
  },
  {
   "cell_type": "code",
   "execution_count": 102,
   "id": "dbe4df73",
   "metadata": {},
   "outputs": [
    {
     "name": "stdout",
     "output_type": "stream",
     "text": [
      "请输入二进制编码位数4\n"
     ]
    }
   ],
   "source": [
    "import matplotlib.pyplot as plt\n",
    "\n",
    "dim=int(input(\"请输入二进制编码位数\"))\n",
    "iteration=20#模拟迭代次数\n"
   ]
  },
  {
   "cell_type": "code",
   "execution_count": 103,
   "id": "20efe3fa",
   "metadata": {},
   "outputs": [],
   "source": [
    "def function2(dim ,num_of_species):\n",
    "    #得到所有0/1编码情况\n",
    "    nums =get_all_nums(dim)\n",
    "    #随机生成的物种的所有组合情况\n",
    "    random_species= [list(w)for w in list(itertools.combinations(nums,num_of_species))]\n",
    "    flag=np.ones((len(random_species),num_of_species))\n",
    "    all_num_co=list(copy.deepcopy(random_species))\n",
    "    #进行迭代模拟\n",
    "    x,y,z=function(random_species,flag,all_num_co,dim)\n",
    "    for i in range(iteration):\n",
    "        x,y,z=function(x,y,z,dim)\n",
    "    #得到模拟结果\n",
    "    final_answer=[[] for i in range(num_of_species+1)]\n",
    "    for i in range(len(flag)):\n",
    "        final_answer[int(sum(flag[i]))].append(random_species[i])\n",
    "    x=[]\n",
    "    for i in range(num_of_species+1):\n",
    "        x.append(len(final_answer[i]))\n",
    "    x=np.array(x)\n",
    "    x=x/len(flag)\n",
    "    y=np.sum(flag)/(len(flag)*num_of_species)\n",
    "    return y"
   ]
  },
  {
   "cell_type": "code",
   "execution_count": 104,
   "id": "7f93e295",
   "metadata": {},
   "outputs": [
    {
     "data": {
      "image/png": "[encoded data removed]",
      "text/plain": [
       "<Figure size 432x288 with 1 Axes>"
      ]
     },
     "metadata": {
      "needs_background": "light"
     },
     "output_type": "display_data"
    }
   ],
   "source": [
    "survival_probability=[]\n",
    "for i in range(2,2**dim+1):\n",
    "    survival_probability.append(function2(dim,i))\n",
    "plt.plot(range(2,2**dim+1),survival_probability,'b--*')\n",
    "plt.xlabel(\"n(numbers of species)\")\n",
    "plt.ylabel(\"Probability of survival\")\n",
    "plt.show()   "
   ]
  },
  {
   "cell_type": "code",
   "execution_count": null,
   "id": "4d543f69",
   "metadata": {},
   "outputs": [],
   "source": []
  }
 ],
 "metadata": {
  "kernelspec": {
   "display_name": "Python 3 (ipykernel)",
   "language": "python",
   "name": "python3"
  },
  "language_info": {
   "codemirror_mode": {
    "name": "ipython",
    "version": 3
   },
   "file_extension": ".py",
   "mimetype": "text/x-python",
   "name": "python",
   "nbconvert_exporter": "python",
   "pygments_lexer": "ipython3",
   "version": "3.9.12"
  }
 },
 "nbformat": 4,
 "nbformat_minor": 5
}
